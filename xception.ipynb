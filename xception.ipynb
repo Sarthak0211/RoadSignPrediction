{
 "cells": [
  {
   "cell_type": "code",
   "execution_count": 1,
   "id": "149a1eb2-d4d1-4a94-8d1e-a6a80b0089b4",
   "metadata": {},
   "outputs": [],
   "source": [
    "import numpy as np\n",
    "import pandas as pd\n",
    "import tensorflow as tf\n",
    "from tensorflow import keras\n",
    "from keras.preprocessing.image import ImageDataGenerator\n",
    "from tensorflow.keras import models\n",
    "from keras.layers import Flatten, Dense, Dropout\n",
    "from keras.callbacks import EarlyStopping\n",
    "import datetime\n",
    "import time"
   ]
  },
  {
   "cell_type": "code",
   "execution_count": null,
   "id": "f5501ed7-3dd7-47f0-bcfc-f565eaea0143",
   "metadata": {},
   "outputs": [],
   "source": [
    "!gsutil cp gs://gtsrb_raw_final/GTSRB_Final_Training_Images.zip .\n",
    "!unzip GTSRB_Final_Training_Images.zip"
   ]
  },
  {
   "cell_type": "code",
   "execution_count": 2,
   "id": "dfab74a9-d472-436b-87d0-0e0382d257db",
   "metadata": {},
   "outputs": [
    {
     "name": "stdout",
     "output_type": "stream",
     "text": [
      "Found 31368 images belonging to 43 classes.\n",
      "Found 7841 images belonging to 43 classes.\n"
     ]
    }
   ],
   "source": [
    "datagen = ImageDataGenerator(\n",
    "    featurewise_center=True,\n",
    "    featurewise_std_normalization=True,\n",
    "    rotation_range=20,\n",
    "    width_shift_range=0.1,\n",
    "    height_shift_range=0.1,\n",
    "    rescale=1./255,\n",
    "    validation_split=0.2)\n",
    "\n",
    "train_generator = datagen.flow_from_directory(\n",
    "        'GTSRB/Final_Training/Images',\n",
    "        target_size=(100, 100),\n",
    "        batch_size=64,\n",
    "        class_mode='categorical',\n",
    "        subset='training')\n",
    "\n",
    "val_generator = datagen.flow_from_directory(\n",
    "        'GTSRB/Final_Training/Images',\n",
    "        target_size=(100, 100),\n",
    "        batch_size=64,\n",
    "        class_mode='categorical',\n",
    "        subset='validation')"
   ]
  },
  {
   "cell_type": "code",
   "execution_count": 3,
   "id": "70434ad6-774e-46ac-bf57-ea29cfb0096d",
   "metadata": {},
   "outputs": [
    {
     "name": "stderr",
     "output_type": "stream",
     "text": [
      "2022-05-08 03:06:18.587967: I tensorflow/stream_executor/cuda/cuda_gpu_executor.cc:936] successful NUMA node read from SysFS had negative value (-1), but there must be at least one NUMA node, so returning NUMA node zero\n",
      "2022-05-08 03:06:18.598720: I tensorflow/stream_executor/cuda/cuda_gpu_executor.cc:936] successful NUMA node read from SysFS had negative value (-1), but there must be at least one NUMA node, so returning NUMA node zero\n",
      "2022-05-08 03:06:18.599469: I tensorflow/stream_executor/cuda/cuda_gpu_executor.cc:936] successful NUMA node read from SysFS had negative value (-1), but there must be at least one NUMA node, so returning NUMA node zero\n",
      "2022-05-08 03:06:18.600548: I tensorflow/core/platform/cpu_feature_guard.cc:151] This TensorFlow binary is optimized with oneAPI Deep Neural Network Library (oneDNN) to use the following CPU instructions in performance-critical operations:  AVX2 FMA\n",
      "To enable them in other operations, rebuild TensorFlow with the appropriate compiler flags.\n",
      "2022-05-08 03:06:18.600921: I tensorflow/stream_executor/cuda/cuda_gpu_executor.cc:936] successful NUMA node read from SysFS had negative value (-1), but there must be at least one NUMA node, so returning NUMA node zero\n",
      "2022-05-08 03:06:18.601545: I tensorflow/stream_executor/cuda/cuda_gpu_executor.cc:936] successful NUMA node read from SysFS had negative value (-1), but there must be at least one NUMA node, so returning NUMA node zero\n",
      "2022-05-08 03:06:18.602117: I tensorflow/stream_executor/cuda/cuda_gpu_executor.cc:936] successful NUMA node read from SysFS had negative value (-1), but there must be at least one NUMA node, so returning NUMA node zero\n",
      "2022-05-08 03:06:19.097135: I tensorflow/stream_executor/cuda/cuda_gpu_executor.cc:936] successful NUMA node read from SysFS had negative value (-1), but there must be at least one NUMA node, so returning NUMA node zero\n",
      "2022-05-08 03:06:19.097879: I tensorflow/stream_executor/cuda/cuda_gpu_executor.cc:936] successful NUMA node read from SysFS had negative value (-1), but there must be at least one NUMA node, so returning NUMA node zero\n",
      "2022-05-08 03:06:19.098483: I tensorflow/stream_executor/cuda/cuda_gpu_executor.cc:936] successful NUMA node read from SysFS had negative value (-1), but there must be at least one NUMA node, so returning NUMA node zero\n",
      "2022-05-08 03:06:19.099050: I tensorflow/core/common_runtime/gpu/gpu_device.cc:1525] Created device /job:localhost/replica:0/task:0/device:GPU:0 with 13588 MB memory:  -> device: 0, name: Tesla T4, pci bus id: 0000:00:04.0, compute capability: 7.5\n"
     ]
    }
   ],
   "source": [
    "xception = tf.keras.applications.Xception(\n",
    "    include_top=False,\n",
    "    weights=\"imagenet\",\n",
    "    input_shape=(100, 100, 3),\n",
    "    classifier_activation=\"softmax\",\n",
    ")"
   ]
  },
  {
   "cell_type": "code",
   "execution_count": 4,
   "id": "583b5e01-f18b-4808-aa3c-6b313b274787",
   "metadata": {},
   "outputs": [],
   "source": [
    "model = models.Sequential()\n",
    "model.add(xception)\n",
    "model.add(Flatten())\n",
    "model.add(Dropout(0.5))\n",
    "model.add(Dense(units=43, activation='softmax'))"
   ]
  },
  {
   "cell_type": "code",
   "execution_count": 5,
   "id": "84467f19-51a4-4c70-ad79-29229d35bb7a",
   "metadata": {},
   "outputs": [
    {
     "name": "stdout",
     "output_type": "stream",
     "text": [
      "Model: \"sequential\"\n",
      "_________________________________________________________________\n",
      " Layer (type)                Output Shape              Param #   \n",
      "=================================================================\n",
      " xception (Functional)       (None, 3, 3, 2048)        20861480  \n",
      "                                                                 \n",
      " flatten (Flatten)           (None, 18432)             0         \n",
      "                                                                 \n",
      " dropout (Dropout)           (None, 18432)             0         \n",
      "                                                                 \n",
      " dense (Dense)               (None, 43)                792619    \n",
      "                                                                 \n",
      "=================================================================\n",
      "Total params: 21,654,099\n",
      "Trainable params: 21,599,571\n",
      "Non-trainable params: 54,528\n",
      "_________________________________________________________________\n"
     ]
    }
   ],
   "source": [
    "model.summary()"
   ]
  },
  {
   "cell_type": "code",
   "execution_count": 6,
   "id": "e812588c-1bf4-46d3-a15c-f592507cc344",
   "metadata": {},
   "outputs": [],
   "source": [
    "%load_ext tensorboard"
   ]
  },
  {
   "cell_type": "code",
   "execution_count": 7,
   "id": "932e02ed-96de-4840-861f-e03fd6faa26a",
   "metadata": {},
   "outputs": [],
   "source": [
    "log_dir = \"logs_xception/fit/\" + datetime.datetime.now().strftime(\"%Y%m%d-%H%M%S\")\n",
    "tensorboard_callback = tf.keras.callbacks.TensorBoard(log_dir=log_dir, histogram_freq=1)"
   ]
  },
  {
   "cell_type": "code",
   "execution_count": 11,
   "id": "59157832-971a-4d2a-8146-2a6ff692b6b9",
   "metadata": {},
   "outputs": [],
   "source": [
    "steps_per_epoch = 800\n",
    "\n",
    "optimizer = tf.keras.optimizers.Adam()\n",
    "\n",
    "model.compile(optimizer=optimizer, loss=\"binary_crossentropy\", metrics=[\"accuracy\"])"
   ]
  },
  {
   "cell_type": "code",
   "execution_count": 12,
   "id": "8cdc76ab-fb31-4f37-9480-3d1f83e7090c",
   "metadata": {},
   "outputs": [],
   "source": [
    "es = EarlyStopping(monitor='val_loss', mode='min', verbose=1, patience=10)"
   ]
  },
  {
   "cell_type": "code",
   "execution_count": 13,
   "id": "5909313d-08ba-40bd-ba2b-08488166d083",
   "metadata": {},
   "outputs": [
    {
     "name": "stdout",
     "output_type": "stream",
     "text": [
      "Epoch 1/20\n",
      "491/491 [==============================] - ETA: 0s - loss: 0.0029 - accuracy: 0.9858"
     ]
    },
    {
     "name": "stderr",
     "output_type": "stream",
     "text": [
      "2022-05-08 03:19:06.786550: W tensorflow/core/framework/cpu_allocator_impl.cc:82] Allocation of 754974720 exceeds 10% of free system memory.\n"
     ]
    },
    {
     "name": "stdout",
     "output_type": "stream",
     "text": [
      "491/491 [==============================] - 142s 282ms/step - loss: 0.0029 - accuracy: 0.9858 - val_loss: 0.0056 - val_accuracy: 0.9702\n",
      "Epoch 2/20\n",
      "491/491 [==============================] - 137s 280ms/step - loss: 0.0015 - accuracy: 0.9932 - val_loss: 0.0045 - val_accuracy: 0.9767\n",
      "Epoch 3/20\n",
      "491/491 [==============================] - 138s 281ms/step - loss: 0.0019 - accuracy: 0.9909 - val_loss: 0.0025 - val_accuracy: 0.9861\n",
      "Epoch 4/20\n",
      "491/491 [==============================] - 138s 280ms/step - loss: 0.0015 - accuracy: 0.9935 - val_loss: 0.0858 - val_accuracy: 0.8792\n",
      "Epoch 5/20\n",
      "491/491 [==============================] - 137s 278ms/step - loss: 0.0010 - accuracy: 0.9947 - val_loss: 0.0038 - val_accuracy: 0.9777\n",
      "Epoch 6/20\n",
      "491/491 [==============================] - 137s 280ms/step - loss: 6.3832e-04 - accuracy: 0.9963 - val_loss: 0.0062 - val_accuracy: 0.9732\n",
      "Epoch 7/20\n",
      "491/491 [==============================] - 137s 279ms/step - loss: 0.0012 - accuracy: 0.9946 - val_loss: 0.0017 - val_accuracy: 0.9883\n",
      "Epoch 8/20\n",
      "491/491 [==============================] - 137s 279ms/step - loss: 5.6240e-04 - accuracy: 0.9974 - val_loss: 0.0045 - val_accuracy: 0.9732\n",
      "Epoch 9/20\n",
      "491/491 [==============================] - 137s 279ms/step - loss: 7.2037e-04 - accuracy: 0.9967 - val_loss: 0.9621 - val_accuracy: 0.5712\n",
      "Epoch 10/20\n",
      "491/491 [==============================] - 137s 279ms/step - loss: 0.0015 - accuracy: 0.9931 - val_loss: 0.0075 - val_accuracy: 0.9583\n",
      "Epoch 11/20\n",
      "491/491 [==============================] - 137s 279ms/step - loss: 5.0892e-04 - accuracy: 0.9973 - val_loss: 0.0037 - val_accuracy: 0.9823\n",
      "Epoch 12/20\n",
      "491/491 [==============================] - 138s 281ms/step - loss: 8.3253e-04 - accuracy: 0.9959 - val_loss: 0.0047 - val_accuracy: 0.9722\n",
      "Epoch 13/20\n",
      "491/491 [==============================] - 138s 280ms/step - loss: 5.0676e-04 - accuracy: 0.9974 - val_loss: 0.0026 - val_accuracy: 0.9848\n",
      "Epoch 14/20\n",
      "491/491 [==============================] - 137s 278ms/step - loss: 5.1536e-04 - accuracy: 0.9977 - val_loss: 0.0021 - val_accuracy: 0.9839\n",
      "Epoch 15/20\n",
      "491/491 [==============================] - 137s 278ms/step - loss: 4.6440e-04 - accuracy: 0.9979 - val_loss: 0.0020 - val_accuracy: 0.9878\n",
      "Epoch 16/20\n",
      "491/491 [==============================] - 138s 280ms/step - loss: 4.3501e-04 - accuracy: 0.9983 - val_loss: 0.0017 - val_accuracy: 0.9895\n",
      "Epoch 17/20\n",
      "491/491 [==============================] - 138s 280ms/step - loss: 7.8077e-04 - accuracy: 0.9967 - val_loss: 0.0070 - val_accuracy: 0.9788\n",
      "Epoch 17: early stopping\n"
     ]
    }
   ],
   "source": [
    "tic = time.time()\n",
    "model.fit(train_generator, validation_data=val_generator, epochs = 20, callbacks=[es,tensorboard_callback])\n",
    "toc = time.time()"
   ]
  },
  {
   "cell_type": "code",
   "execution_count": null,
   "id": "0f2b4674-8665-47ff-98c5-d029a45764bf",
   "metadata": {},
   "outputs": [],
   "source": [
    "print('Time taken for training: {} '.format(toc-tic))"
   ]
  },
  {
   "cell_type": "code",
   "execution_count": null,
   "id": "59620eee-98c8-40a3-a45c-ecd3273ae79d",
   "metadata": {},
   "outputs": [],
   "source": [
    "%tensorboard --logdir logs_xception/fit"
   ]
  },
  {
   "cell_type": "code",
   "execution_count": 129,
   "id": "13932431-9487-4d4e-aa28-b70cba788b39",
   "metadata": {},
   "outputs": [
    {
     "name": "stdout",
     "output_type": "stream",
     "text": [
      "Model: \"sequential_11\"\n",
      "_________________________________________________________________\n",
      " Layer (type)                Output Shape              Param #   \n",
      "=================================================================\n",
      " xception (Functional)       (None, 3, 3, 2048)        20861480  \n",
      "                                                                 \n",
      " flatten_11 (Flatten)        (None, 18432)             0         \n",
      "                                                                 \n",
      " dropout_11 (Dropout)        (None, 18432)             0         \n",
      "                                                                 \n",
      " dense_11 (Dense)            (None, 43)                792619    \n",
      "                                                                 \n",
      "=================================================================\n",
      "Total params: 21,654,099\n",
      "Trainable params: 792,619\n",
      "Non-trainable params: 20,861,480\n",
      "_________________________________________________________________\n"
     ]
    }
   ],
   "source": [
    "for layer in xception.layers:\n",
    "    layer.trainable = False\n",
    "model1 = models.Sequential()\n",
    "model1.add(xception)\n",
    "model1.add(Flatten())\n",
    "model1.add(Dropout(0.5))\n",
    "model1.add(Dense(units=43, activation='softmax'))\n",
    "model1.summary()"
   ]
  },
  {
   "cell_type": "code",
   "execution_count": 130,
   "id": "641d39e0-a67b-425a-a98a-c19f0b022e36",
   "metadata": {},
   "outputs": [],
   "source": [
    "log_dir = \"logs_xception_NT/fit/\" + datetime.datetime.now().strftime(\"%Y%m%d-%H%M%S\")\n",
    "tensorboard_callback = tf.keras.callbacks.TensorBoard(log_dir=log_dir, histogram_freq=1)"
   ]
  },
  {
   "cell_type": "code",
   "execution_count": 131,
   "id": "498d5724-2e64-4b20-b691-4ddeb4c59011",
   "metadata": {},
   "outputs": [],
   "source": [
    "steps_per_epoch = 729\n",
    "\n",
    "optimizer = tf.keras.optimizers.Adam()\n",
    "\n",
    "model1.compile(optimizer=optimizer, loss=\"binary_crossentropy\", metrics=[\"accuracy\"])"
   ]
  },
  {
   "cell_type": "code",
   "execution_count": 132,
   "id": "2f010927-eaf0-4758-882e-9cd223fab7bd",
   "metadata": {},
   "outputs": [],
   "source": [
    "es = EarlyStopping(monitor='val_loss', mode='min', verbose=1, patience=5)"
   ]
  },
  {
   "cell_type": "code",
   "execution_count": 133,
   "id": "b5ec9c3b-a646-41c9-84bc-e200b3a9c6e2",
   "metadata": {},
   "outputs": [
    {
     "name": "stdout",
     "output_type": "stream",
     "text": [
      "Epoch 1/10\n",
      "491/491 [==============================] - 93s 186ms/step - loss: 0.0046 - accuracy: 0.9909 - val_loss: 0.0038 - val_accuracy: 0.9846\n",
      "Epoch 2/10\n",
      "491/491 [==============================] - 91s 185ms/step - loss: 3.9135e-04 - accuracy: 0.9996 - val_loss: 0.0028 - val_accuracy: 0.9847\n",
      "Epoch 3/10\n",
      "491/491 [==============================] - 90s 183ms/step - loss: 2.3744e-04 - accuracy: 0.9995 - val_loss: 0.0026 - val_accuracy: 0.9833\n",
      "Epoch 4/10\n",
      "491/491 [==============================] - 89s 182ms/step - loss: 1.7529e-04 - accuracy: 0.9996 - val_loss: 0.0025 - val_accuracy: 0.9833\n",
      "Epoch 5/10\n",
      "491/491 [==============================] - 89s 182ms/step - loss: 1.2429e-04 - accuracy: 0.9997 - val_loss: 0.0026 - val_accuracy: 0.9824\n",
      "Epoch 6/10\n",
      "491/491 [==============================] - 90s 183ms/step - loss: 1.4033e-04 - accuracy: 0.9995 - val_loss: 0.0023 - val_accuracy: 0.9838\n",
      "Epoch 7/10\n",
      "491/491 [==============================] - 89s 181ms/step - loss: 9.1148e-05 - accuracy: 0.9998 - val_loss: 0.0025 - val_accuracy: 0.9835\n",
      "Epoch 8/10\n",
      "491/491 [==============================] - 90s 183ms/step - loss: 8.4518e-05 - accuracy: 0.9996 - val_loss: 0.0025 - val_accuracy: 0.9839\n",
      "Epoch 9/10\n",
      "491/491 [==============================] - 89s 181ms/step - loss: 7.5548e-05 - accuracy: 0.9998 - val_loss: 0.0024 - val_accuracy: 0.9850\n",
      "Epoch 10/10\n",
      "491/491 [==============================] - 89s 181ms/step - loss: 7.1747e-05 - accuracy: 0.9998 - val_loss: 0.0025 - val_accuracy: 0.9839\n"
     ]
    }
   ],
   "source": [
    "tic = time.time()\n",
    "model1.fit(train_generator, validation_data=val_generator, epochs = 10, callbacks=[es,tensorboard_callback])\n",
    "toc = time.time()"
   ]
  },
  {
   "cell_type": "code",
   "execution_count": 134,
   "id": "cc569878-1bae-47c1-9335-f01b84b6ba36",
   "metadata": {},
   "outputs": [
    {
     "name": "stdout",
     "output_type": "stream",
     "text": [
      "Time taken for training: 900.1436853408813 \n"
     ]
    }
   ],
   "source": [
    "print('Time taken for training: {} '.format(toc-tic))"
   ]
  },
  {
   "cell_type": "code",
   "execution_count": null,
   "id": "33246b2f-2426-4e79-953f-c6f1d31ea105",
   "metadata": {},
   "outputs": [],
   "source": [
    "%tensorboard --logdir logs_xception_NT/fit"
   ]
  }
 ],
 "metadata": {
  "environment": {
   "kernel": "python3",
   "name": "tf2-gpu.2-8.m91",
   "type": "gcloud",
   "uri": "gcr.io/deeplearning-platform-release/tf2-gpu.2-8:m91"
  },
  "kernelspec": {
   "display_name": "Python 3",
   "language": "python",
   "name": "python3"
  },
  "language_info": {
   "codemirror_mode": {
    "name": "ipython",
    "version": 3
   },
   "file_extension": ".py",
   "mimetype": "text/x-python",
   "name": "python",
   "nbconvert_exporter": "python",
   "pygments_lexer": "ipython3",
   "version": "3.7.12"
  }
 },
 "nbformat": 4,
 "nbformat_minor": 5
}
