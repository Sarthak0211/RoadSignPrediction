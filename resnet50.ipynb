{
 "cells": [
  {
   "cell_type": "code",
   "execution_count": 2,
   "id": "149a1eb2-d4d1-4a94-8d1e-a6a80b0089b4",
   "metadata": {},
   "outputs": [],
   "source": [
    "import numpy as np\n",
    "import pandas as pd\n",
    "import tensorflow as tf\n",
    "from tensorflow import keras\n",
    "from keras.preprocessing.image import ImageDataGenerator\n",
    "from tensorflow.keras import models\n",
    "from keras.layers import Flatten, Dense, Dropout\n",
    "from keras.callbacks import EarlyStopping\n",
    "import datetime\n",
    "import time"
   ]
  },
  {
   "cell_type": "code",
   "execution_count": null,
   "id": "f5501ed7-3dd7-47f0-bcfc-f565eaea0143",
   "metadata": {},
   "outputs": [],
   "source": [
    "!gsutil cp gs://gtsrb_raw_final/GTSRB_Final_Training_Images.zip .\n",
    "!unzip GTSRB_Final_Training_Images.zip"
   ]
  },
  {
   "cell_type": "code",
   "execution_count": 3,
   "id": "dfab74a9-d472-436b-87d0-0e0382d257db",
   "metadata": {},
   "outputs": [
    {
     "name": "stdout",
     "output_type": "stream",
     "text": [
      "Found 31368 images belonging to 43 classes.\n",
      "Found 7841 images belonging to 43 classes.\n"
     ]
    }
   ],
   "source": [
    "datagen = ImageDataGenerator(\n",
    "    featurewise_center=True,\n",
    "    featurewise_std_normalization=True,\n",
    "    rotation_range=20,\n",
    "    width_shift_range=0.1,\n",
    "    height_shift_range=0.1,\n",
    "    rescale=1./255,\n",
    "    validation_split=0.2)\n",
    "\n",
    "train_generator = datagen.flow_from_directory(\n",
    "        'GTSRB/Final_Training/Images',\n",
    "        target_size=(100, 100),\n",
    "        batch_size=64,\n",
    "        class_mode='categorical',\n",
    "        subset='training')\n",
    "\n",
    "val_generator = datagen.flow_from_directory(\n",
    "        'GTSRB/Final_Training/Images',\n",
    "        target_size=(100, 100),\n",
    "        batch_size=64,\n",
    "        class_mode='categorical',\n",
    "        subset='validation')"
   ]
  },
  {
   "cell_type": "code",
   "execution_count": 4,
   "id": "70434ad6-774e-46ac-bf57-ea29cfb0096d",
   "metadata": {},
   "outputs": [
    {
     "name": "stderr",
     "output_type": "stream",
     "text": [
      "2022-05-08 14:20:22.554988: I tensorflow/stream_executor/cuda/cuda_gpu_executor.cc:936] successful NUMA node read from SysFS had negative value (-1), but there must be at least one NUMA node, so returning NUMA node zero\n",
      "2022-05-08 14:20:22.565790: I tensorflow/stream_executor/cuda/cuda_gpu_executor.cc:936] successful NUMA node read from SysFS had negative value (-1), but there must be at least one NUMA node, so returning NUMA node zero\n",
      "2022-05-08 14:20:22.566400: I tensorflow/stream_executor/cuda/cuda_gpu_executor.cc:936] successful NUMA node read from SysFS had negative value (-1), but there must be at least one NUMA node, so returning NUMA node zero\n",
      "2022-05-08 14:20:22.567580: I tensorflow/core/platform/cpu_feature_guard.cc:151] This TensorFlow binary is optimized with oneAPI Deep Neural Network Library (oneDNN) to use the following CPU instructions in performance-critical operations:  AVX2 FMA\n",
      "To enable them in other operations, rebuild TensorFlow with the appropriate compiler flags.\n",
      "2022-05-08 14:20:22.567944: I tensorflow/stream_executor/cuda/cuda_gpu_executor.cc:936] successful NUMA node read from SysFS had negative value (-1), but there must be at least one NUMA node, so returning NUMA node zero\n",
      "2022-05-08 14:20:22.568599: I tensorflow/stream_executor/cuda/cuda_gpu_executor.cc:936] successful NUMA node read from SysFS had negative value (-1), but there must be at least one NUMA node, so returning NUMA node zero\n",
      "2022-05-08 14:20:22.569202: I tensorflow/stream_executor/cuda/cuda_gpu_executor.cc:936] successful NUMA node read from SysFS had negative value (-1), but there must be at least one NUMA node, so returning NUMA node zero\n",
      "2022-05-08 14:20:23.074178: I tensorflow/stream_executor/cuda/cuda_gpu_executor.cc:936] successful NUMA node read from SysFS had negative value (-1), but there must be at least one NUMA node, so returning NUMA node zero\n",
      "2022-05-08 14:20:23.074874: I tensorflow/stream_executor/cuda/cuda_gpu_executor.cc:936] successful NUMA node read from SysFS had negative value (-1), but there must be at least one NUMA node, so returning NUMA node zero\n",
      "2022-05-08 14:20:23.075456: I tensorflow/stream_executor/cuda/cuda_gpu_executor.cc:936] successful NUMA node read from SysFS had negative value (-1), but there must be at least one NUMA node, so returning NUMA node zero\n",
      "2022-05-08 14:20:23.076001: I tensorflow/core/common_runtime/gpu/gpu_device.cc:1525] Created device /job:localhost/replica:0/task:0/device:GPU:0 with 13823 MB memory:  -> device: 0, name: Tesla T4, pci bus id: 0000:00:04.0, compute capability: 7.5\n"
     ]
    }
   ],
   "source": [
    "resnet = tf.keras.applications.ResNet50(\n",
    "    include_top=False,\n",
    "    weights=\"imagenet\",\n",
    "    input_shape=(100, 100, 3),\n",
    "    classifier_activation=\"softmax\",\n",
    ")"
   ]
  },
  {
   "cell_type": "code",
   "execution_count": 5,
   "id": "583b5e01-f18b-4808-aa3c-6b313b274787",
   "metadata": {},
   "outputs": [],
   "source": [
    "model = models.Sequential()\n",
    "model.add(resnet)\n",
    "model.add(Flatten())\n",
    "model.add(Dropout(0.5))\n",
    "model.add(Dense(units=43, activation='softmax'))"
   ]
  },
  {
   "cell_type": "code",
   "execution_count": 6,
   "id": "84467f19-51a4-4c70-ad79-29229d35bb7a",
   "metadata": {},
   "outputs": [
    {
     "name": "stdout",
     "output_type": "stream",
     "text": [
      "Model: \"sequential\"\n",
      "_________________________________________________________________\n",
      " Layer (type)                Output Shape              Param #   \n",
      "=================================================================\n",
      " resnet50 (Functional)       (None, 4, 4, 2048)        23587712  \n",
      "                                                                 \n",
      " flatten (Flatten)           (None, 32768)             0         \n",
      "                                                                 \n",
      " dropout (Dropout)           (None, 32768)             0         \n",
      "                                                                 \n",
      " dense (Dense)               (None, 43)                1409067   \n",
      "                                                                 \n",
      "=================================================================\n",
      "Total params: 24,996,779\n",
      "Trainable params: 24,943,659\n",
      "Non-trainable params: 53,120\n",
      "_________________________________________________________________\n"
     ]
    }
   ],
   "source": [
    "model.summary()"
   ]
  },
  {
   "cell_type": "code",
   "execution_count": 7,
   "id": "e812588c-1bf4-46d3-a15c-f592507cc344",
   "metadata": {},
   "outputs": [],
   "source": [
    "%load_ext tensorboard"
   ]
  },
  {
   "cell_type": "code",
   "execution_count": 8,
   "id": "932e02ed-96de-4840-861f-e03fd6faa26a",
   "metadata": {},
   "outputs": [],
   "source": [
    "log_dir = \"logs_resnet/fit/\" + datetime.datetime.now().strftime(\"%Y%m%d-%H%M%S\")\n",
    "tensorboard_callback = tf.keras.callbacks.TensorBoard(log_dir=log_dir, histogram_freq=1)"
   ]
  },
  {
   "cell_type": "code",
   "execution_count": 9,
   "id": "59157832-971a-4d2a-8146-2a6ff692b6b9",
   "metadata": {},
   "outputs": [],
   "source": [
    "steps_per_epoch = 729\n",
    "\n",
    "optimizer = tf.keras.optimizers.Adam()\n",
    "\n",
    "model.compile(optimizer=optimizer, loss=\"binary_crossentropy\", metrics=[\"accuracy\"])"
   ]
  },
  {
   "cell_type": "code",
   "execution_count": 12,
   "id": "8cdc76ab-fb31-4f37-9480-3d1f83e7090c",
   "metadata": {},
   "outputs": [],
   "source": [
    "es = EarlyStopping(monitor='val_loss', mode='min', verbose=1, patience=10)"
   ]
  },
  {
   "cell_type": "code",
   "execution_count": 13,
   "id": "5909313d-08ba-40bd-ba2b-08488166d083",
   "metadata": {},
   "outputs": [
    {
     "name": "stdout",
     "output_type": "stream",
     "text": [
      "Epoch 1/20\n",
      "491/491 [==============================] - 108s 220ms/step - loss: 0.0025 - accuracy: 0.9904 - val_loss: 0.0076 - val_accuracy: 0.9565\n",
      "Epoch 2/20\n",
      "491/491 [==============================] - 111s 226ms/step - loss: 0.0020 - accuracy: 0.9917 - val_loss: 0.0077 - val_accuracy: 0.9603\n",
      "Epoch 3/20\n",
      "491/491 [==============================] - 113s 229ms/step - loss: 0.0016 - accuracy: 0.9929 - val_loss: 0.0952 - val_accuracy: 0.8541\n",
      "Epoch 4/20\n",
      "491/491 [==============================] - 113s 229ms/step - loss: 0.0039 - accuracy: 0.9856 - val_loss: 0.0094 - val_accuracy: 0.9555\n",
      "Epoch 5/20\n",
      "491/491 [==============================] - 113s 230ms/step - loss: 0.0012 - accuracy: 0.9947 - val_loss: 0.0100 - val_accuracy: 0.9477\n",
      "Epoch 6/20\n",
      "491/491 [==============================] - 114s 231ms/step - loss: 0.0015 - accuracy: 0.9930 - val_loss: 0.0080 - val_accuracy: 0.9594\n",
      "Epoch 7/20\n",
      "491/491 [==============================] - 113s 230ms/step - loss: 6.1874e-04 - accuracy: 0.9970 - val_loss: 0.0060 - val_accuracy: 0.9682\n",
      "Epoch 8/20\n",
      "491/491 [==============================] - 113s 231ms/step - loss: 0.0029 - accuracy: 0.9889 - val_loss: 0.0077 - val_accuracy: 0.9601\n",
      "Epoch 9/20\n",
      "491/491 [==============================] - 113s 230ms/step - loss: 0.0014 - accuracy: 0.9943 - val_loss: 0.0396 - val_accuracy: 0.8556\n",
      "Epoch 10/20\n",
      "491/491 [==============================] - 114s 231ms/step - loss: 0.0023 - accuracy: 0.9905 - val_loss: 0.0047 - val_accuracy: 0.9737\n",
      "Epoch 11/20\n",
      "491/491 [==============================] - 113s 230ms/step - loss: 0.0016 - accuracy: 0.9936 - val_loss: 0.0053 - val_accuracy: 0.9736\n",
      "Epoch 12/20\n",
      "491/491 [==============================] - 113s 230ms/step - loss: 0.0015 - accuracy: 0.9943 - val_loss: 0.0084 - val_accuracy: 0.9620\n",
      "Epoch 13/20\n",
      "491/491 [==============================] - 113s 231ms/step - loss: 7.3132e-04 - accuracy: 0.9968 - val_loss: 0.0059 - val_accuracy: 0.9699\n",
      "Epoch 14/20\n",
      "491/491 [==============================] - 113s 230ms/step - loss: 0.0027 - accuracy: 0.9930 - val_loss: 0.1152 - val_accuracy: 0.7942\n",
      "Epoch 15/20\n",
      "491/491 [==============================] - 113s 230ms/step - loss: 0.0021 - accuracy: 0.9922 - val_loss: 0.0086 - val_accuracy: 0.9578\n",
      "Epoch 16/20\n",
      "491/491 [==============================] - 113s 231ms/step - loss: 6.9511e-04 - accuracy: 0.9968 - val_loss: 0.0054 - val_accuracy: 0.9758\n",
      "Epoch 17/20\n",
      "491/491 [==============================] - 113s 230ms/step - loss: 4.2192e-04 - accuracy: 0.9982 - val_loss: 0.0072 - val_accuracy: 0.9625\n",
      "Epoch 18/20\n",
      "491/491 [==============================] - 113s 230ms/step - loss: 5.4280e-04 - accuracy: 0.9976 - val_loss: 0.0047 - val_accuracy: 0.9784\n",
      "Epoch 19/20\n",
      "491/491 [==============================] - 113s 230ms/step - loss: 6.9310e-04 - accuracy: 0.9969 - val_loss: 0.0118 - val_accuracy: 0.9559\n",
      "Epoch 20/20\n",
      "491/491 [==============================] - 113s 230ms/step - loss: 0.0014 - accuracy: 0.9947 - val_loss: 0.0126 - val_accuracy: 0.9454\n",
      "Epoch 20: early stopping\n"
     ]
    }
   ],
   "source": [
    "tic = time.time()\n",
    "model.fit(train_generator, validation_data=val_generator, epochs = 20, callbacks=[es,tensorboard_callback])\n",
    "toc = time.time()"
   ]
  },
  {
   "cell_type": "code",
   "execution_count": 14,
   "id": "0f2b4674-8665-47ff-98c5-d029a45764bf",
   "metadata": {},
   "outputs": [
    {
     "name": "stdout",
     "output_type": "stream",
     "text": [
      "Time taken for training: 2257.881364583969 \n"
     ]
    }
   ],
   "source": [
    "print('Time taken for training: {} '.format(toc-tic))"
   ]
  },
  {
   "cell_type": "code",
   "execution_count": null,
   "id": "59620eee-98c8-40a3-a45c-ecd3273ae79d",
   "metadata": {},
   "outputs": [],
   "source": [
    "%tensorboard --logdir logs_inc_resnet/fit"
   ]
  },
  {
   "cell_type": "code",
   "execution_count": 98,
   "id": "13932431-9487-4d4e-aa28-b70cba788b39",
   "metadata": {},
   "outputs": [
    {
     "name": "stdout",
     "output_type": "stream",
     "text": [
      "Model: \"sequential_7\"\n",
      "_________________________________________________________________\n",
      " Layer (type)                Output Shape              Param #   \n",
      "=================================================================\n",
      " resnet50 (Functional)       (None, 4, 4, 2048)        23587712  \n",
      "                                                                 \n",
      " flatten_7 (Flatten)         (None, 32768)             0         \n",
      "                                                                 \n",
      " dropout_7 (Dropout)         (None, 32768)             0         \n",
      "                                                                 \n",
      " dense_7 (Dense)             (None, 43)                1409067   \n",
      "                                                                 \n",
      "=================================================================\n",
      "Total params: 24,996,779\n",
      "Trainable params: 1,409,067\n",
      "Non-trainable params: 23,587,712\n",
      "_________________________________________________________________\n"
     ]
    }
   ],
   "source": [
    "for layer in resnet.layers:\n",
    "    layer.trainable = False\n",
    "model = models.Sequential()\n",
    "model.add(resnet)\n",
    "model.add(Flatten())\n",
    "model.add(Dropout(0.5))\n",
    "model.add(Dense(units=43, activation='softmax'))\n",
    "model.summary()"
   ]
  },
  {
   "cell_type": "code",
   "execution_count": 99,
   "id": "641d39e0-a67b-425a-a98a-c19f0b022e36",
   "metadata": {},
   "outputs": [],
   "source": [
    "log_dir = \"logs_resnet_NT/fit/\" + datetime.datetime.now().strftime(\"%Y%m%d-%H%M%S\")\n",
    "tensorboard_callback = tf.keras.callbacks.TensorBoard(log_dir=log_dir, histogram_freq=1)"
   ]
  },
  {
   "cell_type": "code",
   "execution_count": 100,
   "id": "498d5724-2e64-4b20-b691-4ddeb4c59011",
   "metadata": {},
   "outputs": [],
   "source": [
    "steps_per_epoch = 729\n",
    "\n",
    "optimizer = tf.keras.optimizers.Adam()\n",
    "\n",
    "model.compile(optimizer=optimizer, loss=\"binary_crossentropy\", metrics=[\"accuracy\"])"
   ]
  },
  {
   "cell_type": "code",
   "execution_count": 101,
   "id": "2f010927-eaf0-4758-882e-9cd223fab7bd",
   "metadata": {},
   "outputs": [],
   "source": [
    "es = EarlyStopping(monitor='val_loss', mode='min', verbose=1, patience=5)"
   ]
  },
  {
   "cell_type": "code",
   "execution_count": 102,
   "id": "b5ec9c3b-a646-41c9-84bc-e200b3a9c6e2",
   "metadata": {},
   "outputs": [
    {
     "name": "stderr",
     "output_type": "stream",
     "text": [
      "/opt/conda/lib/python3.7/site-packages/keras_preprocessing/image/image_data_generator.py:720: UserWarning: This ImageDataGenerator specifies `featurewise_center`, but it hasn't been fit on any training data. Fit it first by calling `.fit(numpy_data)`.\n",
      "  warnings.warn('This ImageDataGenerator specifies '\n",
      "/opt/conda/lib/python3.7/site-packages/keras_preprocessing/image/image_data_generator.py:728: UserWarning: This ImageDataGenerator specifies `featurewise_std_normalization`, but it hasn't been fit on any training data. Fit it first by calling `.fit(numpy_data)`.\n",
      "  warnings.warn('This ImageDataGenerator specifies '\n"
     ]
    },
    {
     "name": "stdout",
     "output_type": "stream",
     "text": [
      "Epoch 1/10\n",
      "491/491 [==============================] - 95s 189ms/step - loss: 0.0497 - accuracy: 0.8968 - val_loss: 0.0423 - val_accuracy: 0.8778\n",
      "Epoch 2/10\n",
      "491/491 [==============================] - 92s 187ms/step - loss: 0.0235 - accuracy: 0.9572 - val_loss: 0.0373 - val_accuracy: 0.8933\n",
      "Epoch 3/10\n",
      "491/491 [==============================] - 92s 187ms/step - loss: 0.0211 - accuracy: 0.9646 - val_loss: 0.0413 - val_accuracy: 0.8982\n",
      "Epoch 4/10\n",
      "491/491 [==============================] - 90s 183ms/step - loss: 0.0239 - accuracy: 0.9676 - val_loss: 0.0384 - val_accuracy: 0.9015\n",
      "Epoch 5/10\n",
      "491/491 [==============================] - 90s 183ms/step - loss: 0.0226 - accuracy: 0.9699 - val_loss: 0.0344 - val_accuracy: 0.9037\n",
      "Epoch 6/10\n",
      "491/491 [==============================] - 91s 185ms/step - loss: 0.0210 - accuracy: 0.9712 - val_loss: 0.0529 - val_accuracy: 0.9079\n",
      "Epoch 7/10\n",
      "491/491 [==============================] - 90s 183ms/step - loss: 0.0234 - accuracy: 0.9711 - val_loss: 0.0378 - val_accuracy: 0.9092\n",
      "Epoch 8/10\n",
      "491/491 [==============================] - 90s 182ms/step - loss: 0.0242 - accuracy: 0.9730 - val_loss: 0.0496 - val_accuracy: 0.9035\n",
      "Epoch 9/10\n",
      "491/491 [==============================] - 90s 183ms/step - loss: 0.0200 - accuracy: 0.9755 - val_loss: 0.0346 - val_accuracy: 0.9097\n",
      "Epoch 10/10\n",
      "491/491 [==============================] - 90s 183ms/step - loss: 0.0267 - accuracy: 0.9745 - val_loss: 0.0777 - val_accuracy: 0.9014\n",
      "Epoch 10: early stopping\n"
     ]
    }
   ],
   "source": [
    "tic = time.time()\n",
    "model.fit(train_generator, validation_data=val_generator, epochs = 10, callbacks=[es,tensorboard_callback])\n",
    "toc = time.time()"
   ]
  },
  {
   "cell_type": "code",
   "execution_count": 103,
   "id": "cc569878-1bae-47c1-9335-f01b84b6ba36",
   "metadata": {},
   "outputs": [
    {
     "name": "stdout",
     "output_type": "stream",
     "text": [
      "Time taken for training: 908.985512971878 \n"
     ]
    }
   ],
   "source": [
    "print('Time taken for training: {} '.format(toc-tic))"
   ]
  },
  {
   "cell_type": "code",
   "execution_count": null,
   "id": "33246b2f-2426-4e79-953f-c6f1d31ea105",
   "metadata": {},
   "outputs": [],
   "source": [
    "%tensorboard --logdir logs_resnet_NT/fit"
   ]
  }
 ],
 "metadata": {
  "environment": {
   "kernel": "python3",
   "name": "tf2-gpu.2-8.m91",
   "type": "gcloud",
   "uri": "gcr.io/deeplearning-platform-release/tf2-gpu.2-8:m91"
  },
  "kernelspec": {
   "display_name": "Python 3",
   "language": "python",
   "name": "python3"
  },
  "language_info": {
   "codemirror_mode": {
    "name": "ipython",
    "version": 3
   },
   "file_extension": ".py",
   "mimetype": "text/x-python",
   "name": "python",
   "nbconvert_exporter": "python",
   "pygments_lexer": "ipython3",
   "version": "3.7.12"
  }
 },
 "nbformat": 4,
 "nbformat_minor": 5
}
