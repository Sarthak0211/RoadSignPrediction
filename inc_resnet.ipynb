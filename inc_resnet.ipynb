{
 "cells": [
  {
   "cell_type": "code",
   "execution_count": 1,
   "id": "149a1eb2-d4d1-4a94-8d1e-a6a80b0089b4",
   "metadata": {},
   "outputs": [],
   "source": [
    "import numpy as np\n",
    "import pandas as pd\n",
    "import tensorflow as tf\n",
    "from tensorflow import keras\n",
    "from keras.preprocessing.image import ImageDataGenerator\n",
    "from tensorflow.keras import models\n",
    "from keras.layers import Flatten, Dense, Dropout\n",
    "from keras.callbacks import EarlyStopping\n",
    "import datetime\n",
    "import time"
   ]
  },
  {
   "cell_type": "code",
   "execution_count": null,
   "id": "f5501ed7-3dd7-47f0-bcfc-f565eaea0143",
   "metadata": {},
   "outputs": [],
   "source": [
    "!gsutil cp gs://gtsrb_raw_final/GTSRB_Final_Training_Images.zip .\n",
    "!unzip GTSRB_Final_Training_Images.zip"
   ]
  },
  {
   "cell_type": "code",
   "execution_count": 2,
   "id": "dfab74a9-d472-436b-87d0-0e0382d257db",
   "metadata": {},
   "outputs": [
    {
     "name": "stdout",
     "output_type": "stream",
     "text": [
      "Found 31368 images belonging to 43 classes.\n",
      "Found 7841 images belonging to 43 classes.\n"
     ]
    }
   ],
   "source": [
    "datagen = ImageDataGenerator(\n",
    "    featurewise_center=True,\n",
    "    featurewise_std_normalization=True,\n",
    "    rotation_range=20,\n",
    "    width_shift_range=0.1,\n",
    "    height_shift_range=0.1,\n",
    "    rescale=1./255,\n",
    "    validation_split=0.2)\n",
    "\n",
    "train_generator = datagen.flow_from_directory(\n",
    "        'GTSRB/Final_Training/Images',\n",
    "        target_size=(100, 100),\n",
    "        batch_size=64,\n",
    "        class_mode='categorical',\n",
    "        subset='training')\n",
    "\n",
    "val_generator = datagen.flow_from_directory(\n",
    "        'GTSRB/Final_Training/Images',\n",
    "        target_size=(100, 100),\n",
    "        batch_size=64,\n",
    "        class_mode='categorical',\n",
    "        subset='validation')"
   ]
  },
  {
   "cell_type": "code",
   "execution_count": 19,
   "id": "70434ad6-774e-46ac-bf57-ea29cfb0096d",
   "metadata": {},
   "outputs": [],
   "source": [
    "inception_resnet = tf.keras.applications.InceptionResNetV2(\n",
    "    include_top=False,\n",
    "    weights=\"imagenet\",\n",
    "    input_shape=(100, 100, 3),\n",
    "    classifier_activation=\"softmax\",\n",
    ")"
   ]
  },
  {
   "cell_type": "code",
   "execution_count": 20,
   "id": "583b5e01-f18b-4808-aa3c-6b313b274787",
   "metadata": {},
   "outputs": [],
   "source": [
    "model = models.Sequential()\n",
    "model.add(inception_resnet)\n",
    "model.add(Flatten())\n",
    "model.add(Dropout(0.5))\n",
    "model.add(Dense(units=43, activation='softmax'))"
   ]
  },
  {
   "cell_type": "code",
   "execution_count": 21,
   "id": "84467f19-51a4-4c70-ad79-29229d35bb7a",
   "metadata": {},
   "outputs": [
    {
     "name": "stdout",
     "output_type": "stream",
     "text": [
      "Model: \"sequential_1\"\n",
      "_________________________________________________________________\n",
      " Layer (type)                Output Shape              Param #   \n",
      "=================================================================\n",
      " inception_resnet_v2 (Functi  (None, 1, 1, 1536)       54336736  \n",
      " onal)                                                           \n",
      "                                                                 \n",
      " flatten_1 (Flatten)         (None, 1536)              0         \n",
      "                                                                 \n",
      " dropout_1 (Dropout)         (None, 1536)              0         \n",
      "                                                                 \n",
      " dense_1 (Dense)             (None, 43)                66091     \n",
      "                                                                 \n",
      "=================================================================\n",
      "Total params: 54,402,827\n",
      "Trainable params: 54,342,283\n",
      "Non-trainable params: 60,544\n",
      "_________________________________________________________________\n"
     ]
    }
   ],
   "source": [
    "model.summary()"
   ]
  },
  {
   "cell_type": "code",
   "execution_count": 2,
   "id": "e812588c-1bf4-46d3-a15c-f592507cc344",
   "metadata": {},
   "outputs": [],
   "source": [
    "%load_ext tensorboard"
   ]
  },
  {
   "cell_type": "code",
   "execution_count": 23,
   "id": "932e02ed-96de-4840-861f-e03fd6faa26a",
   "metadata": {},
   "outputs": [],
   "source": [
    "log_dir = \"logs_inc_resnet/fit/\" + datetime.datetime.now().strftime(\"%Y%m%d-%H%M%S\")\n",
    "tensorboard_callback = tf.keras.callbacks.TensorBoard(log_dir=log_dir, histogram_freq=1)"
   ]
  },
  {
   "cell_type": "code",
   "execution_count": 24,
   "id": "59157832-971a-4d2a-8146-2a6ff692b6b9",
   "metadata": {},
   "outputs": [],
   "source": [
    "steps_per_epoch = 800\n",
    "\n",
    "optimizer = tf.keras.optimizers.Adam()\n",
    "\n",
    "model.compile(optimizer=optimizer, loss=\"binary_crossentropy\", metrics=[\"accuracy\"])"
   ]
  },
  {
   "cell_type": "code",
   "execution_count": 25,
   "id": "8cdc76ab-fb31-4f37-9480-3d1f83e7090c",
   "metadata": {},
   "outputs": [],
   "source": [
    "es = EarlyStopping(monitor='val_loss', mode='min', verbose=1, patience=10)"
   ]
  },
  {
   "cell_type": "code",
   "execution_count": 26,
   "id": "5909313d-08ba-40bd-ba2b-08488166d083",
   "metadata": {},
   "outputs": [
    {
     "name": "stderr",
     "output_type": "stream",
     "text": [
      "/opt/conda/lib/python3.7/site-packages/keras_preprocessing/image/image_data_generator.py:720: UserWarning: This ImageDataGenerator specifies `featurewise_center`, but it hasn't been fit on any training data. Fit it first by calling `.fit(numpy_data)`.\n",
      "  warnings.warn('This ImageDataGenerator specifies '\n",
      "/opt/conda/lib/python3.7/site-packages/keras_preprocessing/image/image_data_generator.py:728: UserWarning: This ImageDataGenerator specifies `featurewise_std_normalization`, but it hasn't been fit on any training data. Fit it first by calling `.fit(numpy_data)`.\n",
      "  warnings.warn('This ImageDataGenerator specifies '\n"
     ]
    },
    {
     "name": "stdout",
     "output_type": "stream",
     "text": [
      "Epoch 1/20\n",
      "491/491 [==============================] - 142s 253ms/step - loss: 0.0154 - accuracy: 0.9165 - val_loss: 0.0140 - val_accuracy: 0.9120\n",
      "Epoch 2/20\n",
      "491/491 [==============================] - 123s 251ms/step - loss: 0.0014 - accuracy: 0.9926 - val_loss: 0.0058 - val_accuracy: 0.9656\n",
      "Epoch 3/20\n",
      "491/491 [==============================] - 125s 253ms/step - loss: 0.0010 - accuracy: 0.9947 - val_loss: 0.0066 - val_accuracy: 0.9606\n",
      "Epoch 4/20\n",
      "491/491 [==============================] - 125s 255ms/step - loss: 8.0823e-04 - accuracy: 0.9962 - val_loss: 0.0035 - val_accuracy: 0.9753\n",
      "Epoch 5/20\n",
      "491/491 [==============================] - 126s 255ms/step - loss: 9.8102e-04 - accuracy: 0.9947 - val_loss: 0.0022 - val_accuracy: 0.9861\n",
      "Epoch 6/20\n",
      "491/491 [==============================] - 126s 255ms/step - loss: 8.0738e-04 - accuracy: 0.9957 - val_loss: 0.0035 - val_accuracy: 0.9773\n",
      "Epoch 7/20\n",
      "491/491 [==============================] - 126s 255ms/step - loss: 6.6488e-04 - accuracy: 0.9964 - val_loss: 0.0029 - val_accuracy: 0.9815\n",
      "Epoch 8/20\n",
      "491/491 [==============================] - 125s 255ms/step - loss: 4.6716e-04 - accuracy: 0.9976 - val_loss: 0.0040 - val_accuracy: 0.9713\n",
      "Epoch 9/20\n",
      "491/491 [==============================] - 126s 255ms/step - loss: 9.0170e-04 - accuracy: 0.9951 - val_loss: 0.0029 - val_accuracy: 0.9827\n",
      "Epoch 10/20\n",
      "491/491 [==============================] - 125s 255ms/step - loss: 7.7253e-04 - accuracy: 0.9961 - val_loss: 0.0013 - val_accuracy: 0.9913\n",
      "Epoch 11/20\n",
      "491/491 [==============================] - 125s 255ms/step - loss: 6.7723e-04 - accuracy: 0.9968 - val_loss: 0.0045 - val_accuracy: 0.9708\n",
      "Epoch 12/20\n",
      "491/491 [==============================] - 125s 255ms/step - loss: 3.0853e-04 - accuracy: 0.9986 - val_loss: 0.0034 - val_accuracy: 0.9839\n",
      "Epoch 13/20\n",
      "491/491 [==============================] - 125s 255ms/step - loss: 0.0016 - accuracy: 0.9927 - val_loss: 0.0026 - val_accuracy: 0.9825\n",
      "Epoch 14/20\n",
      "491/491 [==============================] - 125s 255ms/step - loss: 9.0948e-04 - accuracy: 0.9952 - val_loss: 0.0036 - val_accuracy: 0.9756\n",
      "Epoch 15/20\n",
      "491/491 [==============================] - 125s 254ms/step - loss: 4.5981e-04 - accuracy: 0.9976 - val_loss: 0.0030 - val_accuracy: 0.9837\n",
      "Epoch 16/20\n",
      "491/491 [==============================] - 125s 255ms/step - loss: 2.7971e-04 - accuracy: 0.9987 - val_loss: 0.0027 - val_accuracy: 0.9872\n",
      "Epoch 17/20\n",
      "491/491 [==============================] - 125s 255ms/step - loss: 7.4930e-04 - accuracy: 0.9968 - val_loss: 0.0101 - val_accuracy: 0.9524\n",
      "Epoch 18/20\n",
      "491/491 [==============================] - 125s 254ms/step - loss: 0.0016 - accuracy: 0.9927 - val_loss: 0.0039 - val_accuracy: 0.9779\n",
      "Epoch 19/20\n",
      "491/491 [==============================] - 125s 255ms/step - loss: 7.6211e-04 - accuracy: 0.9962 - val_loss: 0.0024 - val_accuracy: 0.9851\n",
      "Epoch 20/20\n",
      "491/491 [==============================] - 125s 255ms/step - loss: 3.1391e-04 - accuracy: 0.9985 - val_loss: 0.0017 - val_accuracy: 0.9878\n",
      "Epoch 20: early stopping\n"
     ]
    }
   ],
   "source": [
    "tic = time.time()\n",
    "model.fit(train_generator, validation_data=val_generator, epochs = 20, callbacks=[es,tensorboard_callback])\n",
    "toc = time.time()"
   ]
  },
  {
   "cell_type": "code",
   "execution_count": 29,
   "id": "0f2b4674-8665-47ff-98c5-d029a45764bf",
   "metadata": {},
   "outputs": [
    {
     "name": "stdout",
     "output_type": "stream",
     "text": [
      "Time taken for training: 2521.969240427017 \n"
     ]
    }
   ],
   "source": [
    "print('Time taken for training: {} '.format(toc-tic))"
   ]
  },
  {
   "cell_type": "code",
   "execution_count": null,
   "id": "59620eee-98c8-40a3-a45c-ecd3273ae79d",
   "metadata": {},
   "outputs": [],
   "source": [
    "%tensorboard --logdir logs_inc_resnet/fit"
   ]
  },
  {
   "cell_type": "code",
   "execution_count": 32,
   "id": "13932431-9487-4d4e-aa28-b70cba788b39",
   "metadata": {},
   "outputs": [
    {
     "name": "stdout",
     "output_type": "stream",
     "text": [
      "Model: \"sequential_3\"\n",
      "_________________________________________________________________\n",
      " Layer (type)                Output Shape              Param #   \n",
      "=================================================================\n",
      " inception_resnet_v2 (Functi  (None, 1, 1, 1536)       54336736  \n",
      " onal)                                                           \n",
      "                                                                 \n",
      " flatten_3 (Flatten)         (None, 1536)              0         \n",
      "                                                                 \n",
      " dropout_3 (Dropout)         (None, 1536)              0         \n",
      "                                                                 \n",
      " dense_3 (Dense)             (None, 43)                66091     \n",
      "                                                                 \n",
      "=================================================================\n",
      "Total params: 54,402,827\n",
      "Trainable params: 66,091\n",
      "Non-trainable params: 54,336,736\n",
      "_________________________________________________________________\n"
     ]
    }
   ],
   "source": [
    "for layer in inception_resnet.layers:\n",
    "    layer.trainable = False\n",
    "model1 = models.Sequential()\n",
    "model1.add(inception_resnet)\n",
    "model1.add(Flatten())\n",
    "model1.add(Dropout(0.5))\n",
    "model1.add(Dense(units=43, activation='softmax'))\n",
    "model1.summary()"
   ]
  },
  {
   "cell_type": "code",
   "execution_count": 33,
   "id": "641d39e0-a67b-425a-a98a-c19f0b022e36",
   "metadata": {},
   "outputs": [],
   "source": [
    "log_dir = \"logs_inc_resnet_NT/fit/\" + datetime.datetime.now().strftime(\"%Y%m%d-%H%M%S\")\n",
    "tensorboard_callback = tf.keras.callbacks.TensorBoard(log_dir=log_dir, histogram_freq=1)"
   ]
  },
  {
   "cell_type": "code",
   "execution_count": 34,
   "id": "498d5724-2e64-4b20-b691-4ddeb4c59011",
   "metadata": {},
   "outputs": [],
   "source": [
    "steps_per_epoch = 729\n",
    "\n",
    "optimizer = tf.keras.optimizers.Adam()\n",
    "\n",
    "model1.compile(optimizer=optimizer, loss=\"binary_crossentropy\", metrics=[\"accuracy\"])"
   ]
  },
  {
   "cell_type": "code",
   "execution_count": 35,
   "id": "2f010927-eaf0-4758-882e-9cd223fab7bd",
   "metadata": {},
   "outputs": [],
   "source": [
    "es = EarlyStopping(monitor='val_loss', mode='min', verbose=1, patience=5)"
   ]
  },
  {
   "cell_type": "code",
   "execution_count": 36,
   "id": "b5ec9c3b-a646-41c9-84bc-e200b3a9c6e2",
   "metadata": {},
   "outputs": [
    {
     "name": "stderr",
     "output_type": "stream",
     "text": [
      "/opt/conda/lib/python3.7/site-packages/keras_preprocessing/image/image_data_generator.py:720: UserWarning: This ImageDataGenerator specifies `featurewise_center`, but it hasn't been fit on any training data. Fit it first by calling `.fit(numpy_data)`.\n",
      "  warnings.warn('This ImageDataGenerator specifies '\n",
      "/opt/conda/lib/python3.7/site-packages/keras_preprocessing/image/image_data_generator.py:728: UserWarning: This ImageDataGenerator specifies `featurewise_std_normalization`, but it hasn't been fit on any training data. Fit it first by calling `.fit(numpy_data)`.\n",
      "  warnings.warn('This ImageDataGenerator specifies '\n"
     ]
    },
    {
     "name": "stdout",
     "output_type": "stream",
     "text": [
      "Epoch 1/10\n",
      "491/491 [==============================] - 108s 202ms/step - loss: 0.0164 - accuracy: 0.9494 - val_loss: 0.0040 - val_accuracy: 0.9889\n",
      "Epoch 2/10\n",
      "491/491 [==============================] - 96s 196ms/step - loss: 9.0343e-04 - accuracy: 0.9996 - val_loss: 0.0028 - val_accuracy: 0.9874\n",
      "Epoch 3/10\n",
      "491/491 [==============================] - 97s 197ms/step - loss: 4.6670e-04 - accuracy: 0.9997 - val_loss: 0.0023 - val_accuracy: 0.9888\n",
      "Epoch 4/10\n",
      "491/491 [==============================] - 97s 197ms/step - loss: 3.0562e-04 - accuracy: 0.9997 - val_loss: 0.0021 - val_accuracy: 0.9876\n",
      "Epoch 5/10\n",
      "491/491 [==============================] - 96s 196ms/step - loss: 2.1855e-04 - accuracy: 0.9999 - val_loss: 0.0018 - val_accuracy: 0.9888\n",
      "Epoch 6/10\n",
      "491/491 [==============================] - 96s 196ms/step - loss: 1.7390e-04 - accuracy: 0.9999 - val_loss: 0.0018 - val_accuracy: 0.9876\n",
      "Epoch 7/10\n",
      "491/491 [==============================] - 96s 195ms/step - loss: 1.1915e-04 - accuracy: 0.9998 - val_loss: 0.0017 - val_accuracy: 0.9884\n",
      "Epoch 8/10\n",
      "491/491 [==============================] - 96s 195ms/step - loss: 9.7172e-05 - accuracy: 0.9998 - val_loss: 0.0016 - val_accuracy: 0.9899\n",
      "Epoch 9/10\n",
      "491/491 [==============================] - 97s 197ms/step - loss: 9.0612e-05 - accuracy: 0.9999 - val_loss: 0.0017 - val_accuracy: 0.9890\n",
      "Epoch 10/10\n",
      "491/491 [==============================] - 97s 197ms/step - loss: 8.7465e-05 - accuracy: 0.9998 - val_loss: 0.0017 - val_accuracy: 0.9884\n"
     ]
    }
   ],
   "source": [
    "tic = time.time()\n",
    "model1.fit(train_generator, validation_data=val_generator, epochs = 10, callbacks=[es,tensorboard_callback])\n",
    "toc = time.time()"
   ]
  },
  {
   "cell_type": "code",
   "execution_count": 37,
   "id": "cc569878-1bae-47c1-9335-f01b84b6ba36",
   "metadata": {},
   "outputs": [
    {
     "name": "stdout",
     "output_type": "stream",
     "text": [
      "Time taken for training: 976.0215952396393 \n"
     ]
    }
   ],
   "source": [
    "print('Time taken for training: {} '.format(toc-tic))"
   ]
  },
  {
   "cell_type": "code",
   "execution_count": null,
   "id": "33246b2f-2426-4e79-953f-c6f1d31ea105",
   "metadata": {},
   "outputs": [],
   "source": [
    "%tensorboard --logdir logs_inc_resnet_NT/fit"
   ]
  }
 ],
 "metadata": {
  "environment": {
   "kernel": "python3",
   "name": "tf2-gpu.2-8.m91",
   "type": "gcloud",
   "uri": "gcr.io/deeplearning-platform-release/tf2-gpu.2-8:m91"
  },
  "kernelspec": {
   "display_name": "Python 3",
   "language": "python",
   "name": "python3"
  },
  "language_info": {
   "codemirror_mode": {
    "name": "ipython",
    "version": 3
   },
   "file_extension": ".py",
   "mimetype": "text/x-python",
   "name": "python",
   "nbconvert_exporter": "python",
   "pygments_lexer": "ipython3",
   "version": "3.7.12"
  }
 },
 "nbformat": 4,
 "nbformat_minor": 5
}
